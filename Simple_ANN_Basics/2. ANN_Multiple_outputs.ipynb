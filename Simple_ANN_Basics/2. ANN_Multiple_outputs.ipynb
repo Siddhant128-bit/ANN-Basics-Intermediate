{
 "cells": [
  {
   "attachments": {},
   "cell_type": "markdown",
   "metadata": {},
   "source": [
    "<h2>  Classification of Multiple Classes. </h2>\n",
    "\n",
    "<p> &nbsp;&nbsp; Sometimes Neural Networks have to predict multiple classes, More then one class solution. There are 2 ways to solve this problem \n",
    "<ol>\n",
    "    <li> Multi Label Classification </li>\n",
    "    <li> Multi Class Classification </li>\n",
    "</ol>\n",
    "\n",
    "<p>&nbsp; 1. Multi Label Classification </br>\n",
    "&nbsp;&nbsp;&nbsp; In this approach we basically have multiple outputs for multiple classes and get output as 1 or 0 for each neurons output. It invovles one hot encoding process of the dataset </p>\n"
   ]
  }
 ],
 "metadata": {
  "kernelspec": {
   "display_name": "training_",
   "language": "python",
   "name": "python3"
  },
  "language_info": {
   "name": "python",
   "version": "3.10.8 | packaged by conda-forge | (main, Nov 24 2022, 14:07:00) [MSC v.1916 64 bit (AMD64)]"
  },
  "orig_nbformat": 4,
  "vscode": {
   "interpreter": {
    "hash": "d3d2f78e555183a881cae8393ce673a4ac506717ad392b2f660077200b1aa750"
   }
  }
 },
 "nbformat": 4,
 "nbformat_minor": 2
}
