{
 "cells": [
  {
   "attachments": {},
   "cell_type": "markdown",
   "metadata": {},
   "source": [
    "<h1> ANN: Artificial Neural Networks </h1>\n",
    "<br>\n",
    "<h4> What are ANNs ? </h4>\n",
    "<p>Artificial neural networks, usually simply called neural networks or neural nets, are computing systems inspired by the biological neural networks that constitute animal brains.</p>\n",
    "\n",
    "<img align='left' width='500' src='https://www.tutorialspoint.com/artificial_intelligence/images/atypical_ann.jpg'>\n",
    "<img align='right' width='500' src='https://miro.medium.com/max/1400/1*rptqFUQTMiruWZWKm-WMqQ.png'>\n",
    "\n",
    "\n",
    "<p align ='right'> It contains input layer which is used to provide inputs to the neural networks.<br> This is then moved on to the hidden layer which computes various things.<br>And based on those computations we get the output layer<br>  Which neurons of the output layer is turned on determines where its classifed. In simple terms ANN is just a fancy classifier  </p>\n",
    "\n",
    "<br>\n",
    "<br>\n",
    "<h4> Steps of ANN </h4>\n",
    "<p> Here are simplified steps related to ANN which should be understood before coding </p>\n",
    "<ol>\n",
    "    <li> Initalize with random weights and bias </li>\n",
    "    <li> Compute z for all input layers </li>\n",
    "    <li> Feed z into activation function </li>\n",
    "    <li> Procced to forward propagation on all layers </li>\n",
    "    <li> Compute the cost function /loss function and Back propagate </li>\n",
    "    <li> During Back Propagate adjusts weights and biases </li>\n",
    "    <li> Repeat steps 2 to 6 untill n epochs </li>\n",
    "</ol>\n",
    "<h2> Project 1. XOR Gate Predictor (Perceptron) </h2>\n",
    "\n",
    "<h3> 0. Installing Dependencies </h3>"
   ]
  },
  {
   "cell_type": "code",
   "execution_count": null,
   "metadata": {},
   "outputs": [],
   "source": [
    "!pip install pandas\n",
    "!pip install numpy"
   ]
  },
  {
   "attachments": {},
   "cell_type": "markdown",
   "metadata": {},
   "source": [
    "<h3> 1. Importing Dependencies </h3>"
   ]
  },
  {
   "cell_type": "code",
   "execution_count": null,
   "metadata": {},
   "outputs": [],
   "source": [
    "import pandas as pd\n",
    "import random\n",
    "import numpy as np "
   ]
  },
  {
   "attachments": {},
   "cell_type": "markdown",
   "metadata": {},
   "source": [
    "<h3> 2. Create Dataset for XOR Gate  </h3>\n",
    "Let's create a dataset for any number of input XOR Gate "
   ]
  },
  {
   "cell_type": "code",
   "execution_count": null,
   "metadata": {},
   "outputs": [],
   "source": [
    "def generate_dataset(dims):\n",
    "\n",
    "    def or_output(x):\n",
    "        return x%2\n",
    "\n",
    "\n",
    "    df=pd.DataFrame()\n",
    "    for i in range(0,dims):\n",
    "        while True: \n",
    "            A=[random.randrange(0,2) for i in range(0,2**dims)]\n",
    "            if A.count(1)==(2**dims)/2:\n",
    "                break\n",
    "        df[str(i)]=A\n",
    "\n",
    "    op=0\n",
    "    for i in df.columns:\n",
    "        op+=df[i]\n",
    "\n",
    "    df['Y']=op\n",
    "    df['Y']=df['Y'].apply(or_output)\n",
    "    df\n",
    "    return df \n",
    "\n",
    "dims=int(input('Enter number of dims: '))\n",
    "data=generate_dataset(dims)\n",
    "data"
   ]
  },
  {
   "attachments": {},
   "cell_type": "markdown",
   "metadata": {},
   "source": [
    "<h3> 3. Perceptron Creation </h3>\n",
    "    <p> Initially we take input and then multiple with respective weights and biases </p>"
   ]
  },
  {
   "cell_type": "code",
   "execution_count": null,
   "metadata": {},
   "outputs": [],
   "source": [
    "def generate_weights(data):\n",
    "    n=len(data.columns)-1\n",
    "    return [random.uniform(0,1) for i in range(n)],random.uniform(0,1)\n",
    "\n",
    "def sigmoid(x):    \n",
    "    return 1/(1+np.exp(-x))\n",
    "\n",
    "def cost(P,A):\n",
    "    return (P-A)**2\n",
    "\n",
    "def d_cost(P,A):\n",
    "    h=0.001\n",
    "    return (cost(P+h,A)-cost(P,A))/h\n",
    "\n",
    "def d_sigmoid(x):\n",
    "    h=0.0001\n",
    "    return (sigmoid(x+h)-sigmoid(x))/h\n",
    "\n",
    "\n",
    "def train_model(data,weights,bias):\n",
    "    \n",
    "    features=data.drop(columns=['Y'])\n",
    "    labels=data['Y'].to_list()\n",
    "\n",
    "    #converting to numpy arrays\n",
    "    features=np.array(features)\n",
    "        \n",
    "    weights=np.array(weights)\n",
    "    bias=np.array(bias)\n",
    "\n",
    "    for i in range(0,len(features)):\n",
    "        \n",
    "        z=weights*features[i]+bias\n",
    "        GD=(d_cost(sigmoid(z),labels[i])*d_sigmoid(z))/len(features)\n",
    "\n",
    "        weights=weights-alpha*GD*features[i]\n",
    "        bias=bias-alpha*GD\n",
    "\n",
    "\n",
    "    print(weights)\n",
    "    print(bias)\n",
    "    print('--'*60)\n",
    "    \n",
    "    for epochs in range(0,35000):\n",
    "        z=np.dot(features,weights)+bias\n",
    "        #print([sigmoid(i) for i in z])\n",
    "        #print(labels)\n",
    "        for index in range(len(z)):\n",
    "            gradient_decent_=2*(sigmoid(z[index])-labels[index])*d_sigmoid(z[index])*(1/len(z))\n",
    "            weights=np.array(weights)-alpha*np.array(gradient_decent_)*np.array(features[index])\n",
    "            bias=np.array(bias)-alpha*np.array(gradient_decent_)\n",
    "    \n",
    "    print(weights)\n",
    "    print(bias)\n",
    "    return weights,bias\n",
    "\n",
    "alpha=10**-3\n",
    "weights,bias=generate_weights(data)\n",
    "weights,bias=train_model(data,weights,bias)\n"
   ]
  },
  {
   "cell_type": "code",
   "execution_count": null,
   "metadata": {},
   "outputs": [],
   "source": [
    "print(weights)\n",
    "print(bias)\n",
    "print(sigmoid(np.dot(weights,[0,0])+bias))"
   ]
  },
  {
   "attachments": {},
   "cell_type": "markdown",
   "metadata": {},
   "source": [
    "<h3>4. Tensorflow development </h3>"
   ]
  },
  {
   "cell_type": "code",
   "execution_count": null,
   "metadata": {},
   "outputs": [],
   "source": [
    "import tensorflow as tf\n",
    "from tensorflow import keras\n",
    "from tensorflow.keras import layers,models\n",
    "\n",
    "model=models.Sequential()\n",
    "model.add(layers.Dense(64,activation='relu',input_dim=(data.drop(columns=['Y'])).shape[1]))\n",
    "model.add(layers.Dense(128,activation='relu'))\n",
    "model.add(layers.Dense(128*2,activation='relu'))\n",
    "model.add(layers.Dense(1,activation='sigmoid'))\n",
    "\n",
    "model.compile(loss='binary_crossentropy',optimizer='sgd',metrics='accuracy')\n",
    "\n",
    "X=np.array(data.drop(columns=['Y']))\n",
    "Y=np.array(data['Y']).reshape(-1,1)\n",
    "model.fit(X,Y,epochs=300)\n",
    "\n",
    "\n"
   ]
  },
  {
   "cell_type": "code",
   "execution_count": null,
   "metadata": {},
   "outputs": [],
   "source": [
    "\n",
    "print(model.predict([[1,1]]))"
   ]
  }
 ],
 "metadata": {
  "kernelspec": {
   "display_name": "training_",
   "language": "python",
   "name": "python3"
  },
  "language_info": {
   "codemirror_mode": {
    "name": "ipython",
    "version": 3
   },
   "file_extension": ".py",
   "mimetype": "text/x-python",
   "name": "python",
   "nbconvert_exporter": "python",
   "pygments_lexer": "ipython3",
   "version": "3.10.8"
  },
  "orig_nbformat": 4,
  "vscode": {
   "interpreter": {
    "hash": "d3d2f78e555183a881cae8393ce673a4ac506717ad392b2f660077200b1aa750"
   }
  }
 },
 "nbformat": 4,
 "nbformat_minor": 2
}
