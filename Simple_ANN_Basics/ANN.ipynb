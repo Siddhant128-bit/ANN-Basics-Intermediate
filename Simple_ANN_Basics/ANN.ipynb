{
 "cells": [
  {
   "cell_type": "markdown",
   "metadata": {},
   "source": [
    "<h1> ANN: Artificial Neural Networks </h1>\n",
    "<br>\n",
    "<h4> What are ANNs ? </h4>\n",
    "<p>Artificial neural networks, usually simply called neural networks or neural nets, are computing systems inspired by the biological neural networks that constitute animal brains.</p>\n",
    "\n",
    "<img align='left' width='500' src='https://www.tutorialspoint.com/artificial_intelligence/images/atypical_ann.jpg'>\n",
    "<img align='right' width='500' src='https://miro.medium.com/max/1400/1*rptqFUQTMiruWZWKm-WMqQ.png'>\n",
    "\n",
    "\n",
    "<p align ='right'> It contains input layer which is used to provide inputs to the neural networks.<br> This is then moved on to the hidden layer which computes various things.<br>And based on those computations we get the output layer<br>  Which neurons of the output layer is turned on determines where its classifed. In simple terms ANN is just a fancy classifier  </p>\n",
    "\n",
    "<br>\n",
    "<br>\n",
    "<h4> Steps of ANN </h4>\n",
    "<p> Here are simplified steps related to ANN which should be understood before coding </p>\n",
    "<ol>\n",
    "    <li> Initalize with random weights and bias </li>\n",
    "    <li> Compute z for all input layers </li>\n",
    "    <li> Feed z into activation function </li>\n",
    "    <li> Procced to forward propagation on all layers </li>\n",
    "    <li> Compute the cost function /loss function and Back propagate </li>\n",
    "    <li> During Back Propagate adjusts weights and biases </li>\n",
    "    <li> Repeat steps 2 to 6 untill n epochs </li>\n",
    "</ol>\n",
    "<h2> Project 1. Plant type predictor (Perceptron) </h2>\n",
    "\n",
    "<h3> 0. Installing Dependencies </h3>"
   ]
  },
  {
   "cell_type": "code",
   "execution_count": null,
   "metadata": {},
   "outputs": [],
   "source": [
    "!pip install pandas\n",
    "!pip install numpy"
   ]
  },
  {
   "cell_type": "markdown",
   "metadata": {},
   "source": [
    "<h3> 1. Importing Dependencies </h3>"
   ]
  },
  {
   "cell_type": "code",
   "execution_count": null,
   "metadata": {},
   "outputs": [],
   "source": [
    "import pandas as pd\n",
    "import random\n",
    "import numpy as np \n",
    "import matplotlib.pyplot as plt"
   ]
  },
  {
   "cell_type": "markdown",
   "metadata": {},
   "source": [
    "<h3> 2. Collecting Data set </h3>\n",
    "\n",
    "In this data set their are lengths of leafs and widths of their leaves and their corresponding color patterns associated with it.\n"
   ]
  },
  {
   "cell_type": "code",
   "execution_count": null,
   "metadata": {},
   "outputs": [],
   "source": [
    "df=pd.read_csv('Flower_dataset.csv')\n",
    "df\n",
    "features=np.array(df[['X1','X2']])\n",
    "labels=np.array(df['Y']).reshape(-1,1)\n"
   ]
  },
  {
   "cell_type": "markdown",
   "metadata": {},
   "source": [
    "<h3> 3. Perceptron Creation </h3>"
   ]
  },
  {
   "cell_type": "markdown",
   "metadata": {},
   "source": [
    "<h4> 3.1 Plotting Graph to understand data </h4>"
   ]
  },
  {
   "cell_type": "code",
   "execution_count": null,
   "metadata": {},
   "outputs": [],
   "source": [
    "plt.scatter(x=df['X1'],y=df['X2'])"
   ]
  },
  {
   "cell_type": "markdown",
   "metadata": {},
   "source": [
    "<h4> 3.2 Coding Perceptron  </h4>"
   ]
  },
  {
   "cell_type": "code",
   "execution_count": null,
   "metadata": {},
   "outputs": [],
   "source": [
    "def sigmoid(x):    \n",
    "    return 1/(1+np.exp(-x))\n",
    "\n",
    "def cost(P,A):\n",
    "    return (P-A)**2\n",
    "\n",
    "def d_cost(P,A):\n",
    "    h=0.001\n",
    "    return (cost(P+h,A)-cost(P,A))/h\n",
    "\n",
    "def d_sigmoid(x):\n",
    "    h=0.0001\n",
    "    return (sigmoid(x+h)-sigmoid(x))/h\n",
    "\n",
    "\n",
    "\n",
    "\n",
    "def train_model_perceptron(weights,bias,alpha,features,labels,epochs):\n",
    "    for epoch in range(int(epochs)): \n",
    "        z=np.dot(features,weights)+bias\n",
    "        P=[sigmoid(i) for i in z]\n",
    "        for index in range(len(z)):\n",
    "            weights=[weights[indx]-alpha*d_cost(P[index],labels[index][0])*d_sigmoid(z[index])*features[index][indx] for indx in range(len(weights))]    \n",
    "            bias=bias-alpha*d_cost(P[index],labels[index][0])*d_sigmoid(z[index])\n",
    "    return weights,bias"
   ]
  },
  {
   "cell_type": "markdown",
   "metadata": {},
   "source": [
    "<h4> 3.3 Testing Perceptron </h4>"
   ]
  },
  {
   "cell_type": "code",
   "execution_count": null,
   "metadata": {},
   "outputs": [],
   "source": [
    "weights=np.array([0.25,0.65])\n",
    "bias=0.25\n",
    "alpha=0.001\n",
    "\n",
    "weights,bias=train_model_perceptron(weights,bias,alpha,features,labels,3500)\n",
    "input_val=[float(i) for i in (input('Enter value of length and width seperate with comma: ')).split(',')]\n",
    "print(input_val)\n",
    "z=np.dot(input_val,weights)+bias\n",
    "output=sigmoid(z)\n",
    "if output>=0.50:\n",
    "    output=1 \n",
    "else: \n",
    "    output=0\n",
    "print(output)\n",
    "\n",
    "#See where our point lies at the end \n",
    "plt.scatter(x=df['X1'],y=df['X2'])\n",
    "plt.scatter(x=input_val[0],y=input_val[1],color='red')\n",
    "#Assignment plot the hypothetical line that is sperating 2 classes linear seperator.\n",
    "plt.show()"
   ]
  },
  {
   "cell_type": "markdown",
   "metadata": {},
   "source": [
    "<h2> Project 2. XOR Gate Predictor (Any dimension) </h2>\n",
    "Inially we try to build the XOR Predictor using Preceptron then we move on to coding Neural Network with tensorflow and applying it on the same problem \n",
    "<br>\n",
    "\n",
    "<h3> 1. Create Dataset for XOR Gate  </h3>\n",
    "Let's create a dataset for any number of input XOR Gate "
   ]
  },
  {
   "cell_type": "code",
   "execution_count": null,
   "metadata": {},
   "outputs": [],
   "source": [
    "def generate_dataset(dims):\n",
    "\n",
    "    def xor_output(x):\n",
    "        return x%2\n",
    "\n",
    "\n",
    "    df=pd.DataFrame()\n",
    "    for i in range(0,dims):\n",
    "        while True: \n",
    "            A=[random.randrange(0,2) for i in range(0,2**dims)]\n",
    "            if A.count(1)==(2**dims)/2:\n",
    "                break\n",
    "        df[str(i)]=A\n",
    "\n",
    "    op=0\n",
    "    for i in df.columns:\n",
    "        op+=df[i]\n",
    "\n",
    "    df['Y']=op\n",
    "    df['Y']=df['Y'].apply(xor_output)\n",
    "    df\n",
    "    return df \n",
    "\n",
    "dims=int(input('Enter number of dims: '))\n",
    "data=generate_dataset(dims)\n",
    "data"
   ]
  },
  {
   "cell_type": "markdown",
   "metadata": {},
   "source": [
    "<h3> 2. Perceptron Approach </h3>\n",
    "    <p>  we take input and then multiple with respective weights and biases </p>"
   ]
  },
  {
   "cell_type": "code",
   "execution_count": null,
   "metadata": {},
   "outputs": [],
   "source": [
    "def generate_weights(data):\n",
    "    print(data.columns)\n",
    "    n=len(data.columns)-1\n",
    "    return [random.uniform(0,1) for i in range(n)],random.uniform(-1,1)\n",
    "\n",
    "\n",
    "def getting_proper_data(data,weights,bias):\n",
    "    features=np.array(data.drop(columns=['Y']))\n",
    "    labels=np.array(data['Y']).reshape(-1,1)\n",
    "    weights=np.array(weights)\n",
    "    bias=np.array(bias)\n",
    "    return features,labels,weights,bias\n",
    "\n",
    "alpha=10**-3\n",
    "weights,bias=generate_weights(data)\n",
    "features,labels,weights,bias=getting_proper_data(data,weights,bias)\n",
    "weights,bias=train_model_perceptron(weights,bias,alpha,features,labels,3500)"
   ]
  },
  {
   "cell_type": "code",
   "execution_count": null,
   "metadata": {},
   "outputs": [],
   "source": [
    "print(weights)\n",
    "print(bias)\n",
    "\n",
    "print('\\nPredictor: ')\n",
    "op=sigmoid(np.dot(weights,[1,1,1])+bias)\n",
    "print(op)\n"
   ]
  },
  {
   "cell_type": "markdown",
   "metadata": {},
   "source": [
    "<h4> Conclusion Perceptron </h4>\n",
    "Here we can see that perceptron is not working well for XOR Gate mostly because it is not a linearly seperable problem we should hence not use perceptron in every possible cases and can use neural nets with hidden layers to handle the situation "
   ]
  },
  {
   "cell_type": "markdown",
   "metadata": {},
   "source": [
    "<h3>4. Tensorflow development </h3>"
   ]
  },
  {
   "cell_type": "code",
   "execution_count": null,
   "metadata": {},
   "outputs": [],
   "source": [
    "import tensorflow as tf\n",
    "from tensorflow import keras\n",
    "from tensorflow.keras import layers,models\n",
    "\n",
    "model=models.Sequential()\n",
    "model.add(layers.Dense(64,activation='relu',input_dim=(data.drop(columns=['Y'])).shape[1]))\n",
    "model.add(layers.Dense(128,activation='relu'))\n",
    "model.add(layers.Dense(128*2,activation='relu'))\n",
    "model.add(layers.Dense(1,activation='sigmoid'))\n",
    "\n",
    "model.compile(loss='binary_crossentropy',optimizer='sgd',metrics='accuracy')\n",
    "\n",
    "X=np.array(data.drop(columns=['Y']))\n",
    "Y=np.array(data['Y']).reshape(-1,1)\n",
    "model.fit(X,Y,epochs=300)\n",
    "\n",
    "\n"
   ]
  },
  {
   "cell_type": "markdown",
   "metadata": {},
   "source": [
    "<h4> Testing Tensorflow model </h4>"
   ]
  },
  {
   "cell_type": "code",
   "execution_count": null,
   "metadata": {},
   "outputs": [],
   "source": [
    "print(model.predict([[1,0,0]]))"
   ]
  },
  {
   "cell_type": "markdown",
   "metadata": {},
   "source": [
    "<h4> Conclusion Tensorflow NN model </h4>\n",
    "As we can see that during this we were able to properly implement the Neural net capable of fitting and predicting in this case."
   ]
  }
 ],
 "metadata": {
  "kernelspec": {
   "display_name": "Python 3 (ipykernel)",
   "language": "python",
   "name": "python3"
  },
  "language_info": {
   "codemirror_mode": {
    "name": "ipython",
    "version": 3
   },
   "file_extension": ".py",
   "mimetype": "text/x-python",
   "name": "python",
   "nbconvert_exporter": "python",
   "pygments_lexer": "ipython3",
   "version": "3.10.8"
  },
  "vscode": {
   "interpreter": {
    "hash": "d3d2f78e555183a881cae8393ce673a4ac506717ad392b2f660077200b1aa750"
   }
  }
 },
 "nbformat": 4,
 "nbformat_minor": 2
}
